{
  "nbformat": 4,
  "nbformat_minor": 0,
  "metadata": {
    "colab": {
      "name": "Untitled9.ipynb",
      "provenance": [],
      "authorship_tag": "ABX9TyO4nnhkTebLBWYicBwpy+kg",
      "include_colab_link": true
    },
    "kernelspec": {
      "name": "python3",
      "display_name": "Python 3"
    }
  },
  "cells": [
    {
      "cell_type": "markdown",
      "metadata": {
        "id": "view-in-github",
        "colab_type": "text"
      },
      "source": [
        "<a href=\"https://colab.research.google.com/github/LalithShankar/sentiment-analysis/blob/master/Plain_Text_PDF.ipynb\" target=\"_parent\"><img src=\"https://colab.research.google.com/assets/colab-badge.svg\" alt=\"Open In Colab\"/></a>"
      ]
    },
    {
      "cell_type": "code",
      "metadata": {
        "id": "YEo77k9h-5N6",
        "colab_type": "code",
        "colab": {}
      },
      "source": [
        "\n",
        "import re\n",
        "import textract\n",
        "#read the content of pdf as text\n",
        "text1 = textract.process('UBS Financial Services proceedings.pdf').decode(\"utf-8\")\n",
        "#use four space as paragraph delimiter to convert the text into list of paragraphs.\n",
        "type(text1)\n",
        "text1\n",
        "x = re.split('\\s{3,}', text1)\n",
        "x"
      ],
      "execution_count": 0,
      "outputs": []
    },
    {
      "cell_type": "code",
      "metadata": {
        "id": "GtYOLfv9_Vtf",
        "colab_type": "code",
        "colab": {}
      },
      "source": [
        "pip install textract"
      ],
      "execution_count": 0,
      "outputs": []
    },
    {
      "cell_type": "code",
      "metadata": {
        "id": "hxo9OZ1zBpum",
        "colab_type": "code",
        "colab": {}
      },
      "source": [
        "x1 = re.split('.\\n', text1)\n",
        "x1"
      ],
      "execution_count": 0,
      "outputs": []
    },
    {
      "cell_type": "code",
      "metadata": {
        "id": "-j9wy0sIBtYW",
        "colab_type": "code",
        "colab": {
          "base_uri": "https://localhost:8080/",
          "height": 622
        },
        "outputId": "d9b9661e-8402-4a33-8446-4aa8ce7045bf"
      },
      "source": [
        "def listtostring(s):\n",
        "  str1 = \"\\n\"\n",
        "  return (str1.join(s))\n",
        "l2s= listtostring(x)\n",
        "l2s\n",
        "print(l2s)"
      ],
      "execution_count": 25,
      "outputs": [
        {
          "output_type": "stream",
          "text": [
            "ADMINISTRATIVE PROCEEDING \n",
            "File No. 3-18270\n",
            "SEC Charges UBS in Connection with Mutual Fund Sales to Retirement and Charitable \n",
            "Accounts\n",
            "October 27, 2017 – The Securities and Exchange Commission today announced that UBS \n",
            "Financial Services Inc. (UBS), a registered broker-dealer and investment adviser located in New \n",
            "York, New York, agreed to settle charges that it failed to provide certain retail retirement and \n",
            "charitable brokerage accounts with sales charge waivers and/or lower fee share classes when \n",
            "selling certain mutual funds.\n",
            "According to the SEC’s order, from at least January 2010 through June 2015, UBS \n",
            "disadvantaged certain retirement account and charitable organization customers by failing to \n",
            "ascertain their eligibility for a less expensive mutual fund share class, and recommending and \n",
            "selling them more expensive mutual fund share classes, when less expensive share classes were \n",
            "available.  UBS did so without disclosing that it would receive greater compensation from the \n",
            "customers’ purchases of the more expensive share classes.  UBS also did not disclose that the \n",
            "customers’ purchases of the more expensive share classes would negatively impact the overall \n",
            "return on the customers’ investments, in light of the different fee structures for the different fund \n",
            "share classes.\n",
            "Approximately 15,250 customer accounts paid a total of $18,529,533 in up-front sales charges, \n",
            "contingent deferred sales charges, and higher ongoing fees and expenses as a result of these \n",
            "failures.  UBS has issued payments, including interest, to these customers, and has converted \n",
            "eligible customers to the mutual fund share class with the lowest expenses for which they are \n",
            "eligible, at no cost to the customers.\n",
            "The SEC’s order instituting a settled administrative and cease-and-desist proceeding finds that \n",
            "UBS violated Sections 17(a)(2) and 17(a)(3) of the Securities Act of 1933.  Without admitting or \n",
            "denying the SEC’s findings, UBS consented to a cease-and-desist order, a censure and a civil \n",
            "penalty of $3,500,000.  UBS also undertakes to make additional efforts to locate approximately \n",
            "970 customers who either have not yet cashed or deposited their payments, or who have changed \n",
            "addresses.\n",
            "The SEC’s investigation was conducted by Gwen Licardo and John Farinacci of the Enforcement \n",
            "Division’s Asset Management Unit, and supervised by Assistant Director Valerie A. Szczepanik.\n",
            "The Office of Compliance Inspections and Examinations’ Risk Analysis Examination Team \n",
            "provided data analytics support.\n",
            "See also:\n",
            "Order\n",
            "\n"
          ],
          "name": "stdout"
        }
      ]
    },
    {
      "cell_type": "markdown",
      "metadata": {
        "id": "5KeFPtU6CdnL",
        "colab_type": "text"
      },
      "source": [
        "The whole document as DataFrame"
      ]
    },
    {
      "cell_type": "code",
      "metadata": {
        "id": "_rC0Z51eCdAG",
        "colab_type": "code",
        "colab": {}
      },
      "source": [
        "n = l2s.replace('\\n', '')\n",
        "finallist = n.split('                     ')"
      ],
      "execution_count": 0,
      "outputs": []
    },
    {
      "cell_type": "code",
      "metadata": {
        "id": "tDDYBBd_PtZz",
        "colab_type": "code",
        "colab": {
          "base_uri": "https://localhost:8080/",
          "height": 54
        },
        "outputId": "31a67fbd-c805-4963-81eb-41de2da6976e"
      },
      "source": [
        "data = {'Name':finallist}\n",
        "data"
      ],
      "execution_count": 92,
      "outputs": [
        {
          "output_type": "execute_result",
          "data": {
            "text/plain": [
              "{'Name': ['ADMINISTRATIVE PROCEEDING File No. 3-18270SEC Charges UBS in Connection with Mutual Fund Sales to Retirement and Charitable AccountsOctober 27, 2017 – The Securities and Exchange Commission today announced that UBS Financial Services Inc. (UBS), a registered broker-dealer and investment adviser located in New York, New York, agreed to settle charges that it failed to provide certain retail retirement and charitable brokerage accounts with sales charge waivers and/or lower fee share classes when selling certain mutual funds.According to the SEC’s order, from at least January 2010 through June 2015, UBS disadvantaged certain retirement account and charitable organization customers by failing to ascertain their eligibility for a less expensive mutual fund share class, and recommending and selling them more expensive mutual fund share classes, when less expensive share classes were available.  UBS did so without disclosing that it would receive greater compensation from the customers’ purchases of the more expensive share classes.  UBS also did not disclose that the customers’ purchases of the more expensive share classes would negatively impact the overall return on the customers’ investments, in light of the different fee structures for the different fund share classes.Approximately 15,250 customer accounts paid a total of $18,529,533 in up-front sales charges, contingent deferred sales charges, and higher ongoing fees and expenses as a result of these failures.  UBS has issued payments, including interest, to these customers, and has converted eligible customers to the mutual fund share class with the lowest expenses for which they are eligible, at no cost to the customers.The SEC’s order instituting a settled administrative and cease-and-desist proceeding finds that UBS violated Sections 17(a)(2) and 17(a)(3) of the Securities Act of 1933.  Without admitting or denying the SEC’s findings, UBS consented to a cease-and-desist order, a censure and a civil penalty of $3,500,000.  UBS also undertakes to make additional efforts to locate approximately 970 customers who either have not yet cashed or deposited their payments, or who have changed addresses.The SEC’s investigation was conducted by Gwen Licardo and John Farinacci of the Enforcement Division’s Asset Management Unit, and supervised by Assistant Director Valerie A. Szczepanik.The Office of Compliance Inspections and Examinations’ Risk Analysis Examination Team provided data analytics support.See also:Order']}"
            ]
          },
          "metadata": {
            "tags": []
          },
          "execution_count": 92
        }
      ]
    },
    {
      "cell_type": "code",
      "metadata": {
        "id": "dG4hi2Y0Fw_C",
        "colab_type": "code",
        "colab": {
          "base_uri": "https://localhost:8080/",
          "height": 67
        },
        "outputId": "390883e8-6589-4ca6-b5fb-d3edf7f73fb4"
      },
      "source": [
        "df = pd.DataFrame(data)\n",
        " \n",
        "print(df)\n",
        "type(df)"
      ],
      "execution_count": 93,
      "outputs": [
        {
          "output_type": "stream",
          "text": [
            "                                                Name\n",
            "0  ADMINISTRATIVE PROCEEDING File No. 3-18270SEC ...\n"
          ],
          "name": "stdout"
        },
        {
          "output_type": "execute_result",
          "data": {
            "text/plain": [
              "pandas.core.frame.DataFrame"
            ]
          },
          "metadata": {
            "tags": []
          },
          "execution_count": 93
        }
      ]
    },
    {
      "cell_type": "code",
      "metadata": {
        "id": "GWDyTkxhHrQI",
        "colab_type": "code",
        "colab": {}
      },
      "source": [
        "from textblob import TextBlob\n",
        "\n",
        "pol = lambda x: TextBlob(x).sentiment.polarity\n",
        "sub = lambda x: TextBlob(x).sentiment.subjectivity\n"
      ],
      "execution_count": 0,
      "outputs": []
    },
    {
      "cell_type": "code",
      "metadata": {
        "id": "OKCvjW8GEf1t",
        "colab_type": "code",
        "colab": {
          "base_uri": "https://localhost:8080/",
          "height": 84
        },
        "outputId": "c94ac353-c13a-4c62-d6fb-f116667ceaee"
      },
      "source": [
        "polarity = df['Name'].apply(pol)\n",
        "# type(polarity)\n",
        "subject = df['Name'].apply(sub)\n",
        "\n",
        "print(polarity)\n",
        "print(subject)"
      ],
      "execution_count": 95,
      "outputs": [
        {
          "output_type": "stream",
          "text": [
            "0    0.025896\n",
            "Name: Name, dtype: float64\n",
            "0    0.525186\n",
            "Name: Name, dtype: float64\n"
          ],
          "name": "stdout"
        }
      ]
    },
    {
      "cell_type": "code",
      "metadata": {
        "id": "7nK0DfqiRRA6",
        "colab_type": "code",
        "colab": {
          "base_uri": "https://localhost:8080/",
          "height": 77
        },
        "outputId": "f3e970fc-8a6b-4fd3-f0ce-159e9ca14697"
      },
      "source": [
        "frame = {'Data':[finallist]}\n",
        "dataframe = pd.DataFrame(zip(finallist,polarity,subject),columns=['Data','Polarity','Subjectivity'])\n",
        "dataframe"
      ],
      "execution_count": 101,
      "outputs": [
        {
          "output_type": "execute_result",
          "data": {
            "text/html": [
              "<div>\n",
              "<style scoped>\n",
              "    .dataframe tbody tr th:only-of-type {\n",
              "        vertical-align: middle;\n",
              "    }\n",
              "\n",
              "    .dataframe tbody tr th {\n",
              "        vertical-align: top;\n",
              "    }\n",
              "\n",
              "    .dataframe thead th {\n",
              "        text-align: right;\n",
              "    }\n",
              "</style>\n",
              "<table border=\"1\" class=\"dataframe\">\n",
              "  <thead>\n",
              "    <tr style=\"text-align: right;\">\n",
              "      <th></th>\n",
              "      <th>Data</th>\n",
              "      <th>Polarity</th>\n",
              "      <th>Subjectivity</th>\n",
              "    </tr>\n",
              "  </thead>\n",
              "  <tbody>\n",
              "    <tr>\n",
              "      <th>0</th>\n",
              "      <td>ADMINISTRATIVE PROCEEDING File No. 3-18270SEC ...</td>\n",
              "      <td>0.025896</td>\n",
              "      <td>0.525186</td>\n",
              "    </tr>\n",
              "  </tbody>\n",
              "</table>\n",
              "</div>"
            ],
            "text/plain": [
              "                                                Data  Polarity  Subjectivity\n",
              "0  ADMINISTRATIVE PROCEEDING File No. 3-18270SEC ...  0.025896      0.525186"
            ]
          },
          "metadata": {
            "tags": []
          },
          "execution_count": 101
        }
      ]
    },
    {
      "cell_type": "code",
      "metadata": {
        "id": "VaxGhLDOJi5B",
        "colab_type": "code",
        "colab": {}
      },
      "source": [
        "dataframe.to_csv('Rule_Based_Sentiment_UBS.csv', index_label='index')\n",
        "\n"
      ],
      "execution_count": 0,
      "outputs": []
    },
    {
      "cell_type": "code",
      "metadata": {
        "id": "CXpwb6BlJ-gb",
        "colab_type": "code",
        "colab": {}
      },
      "source": [
        "pip install shorttext"
      ],
      "execution_count": 0,
      "outputs": []
    },
    {
      "cell_type": "code",
      "metadata": {
        "id": "PUP1tY8RMQZU",
        "colab_type": "code",
        "colab": {}
      },
      "source": [
        "import shorttext\n",
        "import numpy as np\n",
        "import pandas as pd\n",
        "import re"
      ],
      "execution_count": 0,
      "outputs": []
    },
    {
      "cell_type": "code",
      "metadata": {
        "id": "hKbOpdqsMXnU",
        "colab_type": "code",
        "colab": {
          "base_uri": "https://localhost:8080/",
          "height": 128
        },
        "outputId": "6ce1fd04-7126-47d3-82af-fb550b823ec5"
      },
      "source": [
        "from stemming.porter import stem"
      ],
      "execution_count": 69,
      "outputs": [
        {
          "output_type": "error",
          "ename": "SyntaxError",
          "evalue": "ignored",
          "traceback": [
            "\u001b[0;36m  File \u001b[0;32m\"/usr/local/lib/python3.6/dist-packages/stemming/porter.py\"\u001b[0;36m, line \u001b[0;32m176\u001b[0m\n\u001b[0;31m    print stem(\"fundamentally\")\u001b[0m\n\u001b[0m             ^\u001b[0m\n\u001b[0;31mSyntaxError\u001b[0m\u001b[0;31m:\u001b[0m invalid syntax\n"
          ]
        }
      ]
    },
    {
      "cell_type": "code",
      "metadata": {
        "id": "OkzuUYOTMcvV",
        "colab_type": "code",
        "colab": {
          "base_uri": "https://localhost:8080/",
          "height": 34
        },
        "outputId": "3f4a24f5-01bc-42c0-9626-4a8d5576613f"
      },
      "source": [
        "pipeline = [lambda s: re.sub('[^\\w\\s]', '', s),\n",
        "            lambda s: re.sub('[\\d]', '', s),\n",
        "            lambda s: s.lower(),\n",
        "            \n",
        " ]\n",
        "txtpreproceesor = shorttext.utils.text_preprocessor(pipeline)\n",
        "txtpreproceesor"
      ],
      "execution_count": 104,
      "outputs": [
        {
          "output_type": "execute_result",
          "data": {
            "text/plain": [
              "<function shorttext.utils.textpreprocessing.text_preprocessor.<locals>.<lambda>>"
            ]
          },
          "metadata": {
            "tags": []
          },
          "execution_count": 104
        }
      ]
    },
    {
      "cell_type": "code",
      "metadata": {
        "id": "EQSsIM_dMhI6",
        "colab_type": "code",
        "colab": {
          "base_uri": "https://localhost:8080/",
          "height": 77
        },
        "outputId": "5c0193b5-b132-462e-a07e-2d5af645b399"
      },
      "source": [
        "docx = pd.read_csv('Rule_Based_Sentiment_UBS.csv')\n",
        "docx"
      ],
      "execution_count": 105,
      "outputs": [
        {
          "output_type": "execute_result",
          "data": {
            "text/html": [
              "<div>\n",
              "<style scoped>\n",
              "    .dataframe tbody tr th:only-of-type {\n",
              "        vertical-align: middle;\n",
              "    }\n",
              "\n",
              "    .dataframe tbody tr th {\n",
              "        vertical-align: top;\n",
              "    }\n",
              "\n",
              "    .dataframe thead th {\n",
              "        text-align: right;\n",
              "    }\n",
              "</style>\n",
              "<table border=\"1\" class=\"dataframe\">\n",
              "  <thead>\n",
              "    <tr style=\"text-align: right;\">\n",
              "      <th></th>\n",
              "      <th>index</th>\n",
              "      <th>Data</th>\n",
              "      <th>Polarity</th>\n",
              "      <th>Subjectivity</th>\n",
              "    </tr>\n",
              "  </thead>\n",
              "  <tbody>\n",
              "    <tr>\n",
              "      <th>0</th>\n",
              "      <td>0</td>\n",
              "      <td>ADMINISTRATIVE PROCEEDING File No. 3-18270SEC ...</td>\n",
              "      <td>0.025896</td>\n",
              "      <td>0.525186</td>\n",
              "    </tr>\n",
              "  </tbody>\n",
              "</table>\n",
              "</div>"
            ],
            "text/plain": [
              "   index  ... Subjectivity\n",
              "0      0  ...     0.525186\n",
              "\n",
              "[1 rows x 4 columns]"
            ]
          },
          "metadata": {
            "tags": []
          },
          "execution_count": 105
        }
      ]
    },
    {
      "cell_type": "markdown",
      "metadata": {
        "id": "9Ad1c9baMwED",
        "colab_type": "text"
      },
      "source": [
        "Topic Modelling"
      ]
    },
    {
      "cell_type": "code",
      "metadata": {
        "id": "1AqzhMBDMyCI",
        "colab_type": "code",
        "colab": {}
      },
      "source": [
        "docids = list(docx['index'])\n",
        "corpus = [txtpreproceesor(Data).split(' ') for Data in docx['Data']]\n",
        "# corpus = [txtpreproceesor(Data).split(' ') for Data in usprezdf['Data']]\n",
        "corpus"
      ],
      "execution_count": 0,
      "outputs": []
    },
    {
      "cell_type": "code",
      "metadata": {
        "id": "IvXiyEBlRkKd",
        "colab_type": "code",
        "colab": {
          "base_uri": "https://localhost:8080/",
          "height": 34
        },
        "outputId": "de7d519a-1912-48a8-dbea-8ac72420fcdb"
      },
      "source": [
        "dtm = shorttext.utils.DocumentTermMatrix(corpus, docids=docids, tfidf=False)\n",
        "print(dtm)"
      ],
      "execution_count": 107,
      "outputs": [
        {
          "output_type": "stream",
          "text": [
            "<shorttext.utils.dtm.DocumentTermMatrix object at 0x7fe9947e9e10>\n"
          ],
          "name": "stdout"
        }
      ]
    },
    {
      "cell_type": "code",
      "metadata": {
        "id": "25VvtYTsRmwS",
        "colab_type": "code",
        "colab": {}
      },
      "source": [
        "pip install gensim"
      ],
      "execution_count": 0,
      "outputs": []
    },
    {
      "cell_type": "code",
      "metadata": {
        "id": "hJCuCJohRrgi",
        "colab_type": "code",
        "colab": {}
      },
      "source": [
        "from gensim import matutils, models\n",
        "import scipy.sparse"
      ],
      "execution_count": 0,
      "outputs": []
    },
    {
      "cell_type": "code",
      "metadata": {
        "id": "YdUxgaFvRt3x",
        "colab_type": "code",
        "colab": {}
      },
      "source": [
        "tdm = docx.transpose()\n",
        "tdm.head()"
      ],
      "execution_count": 0,
      "outputs": []
    },
    {
      "cell_type": "code",
      "metadata": {
        "id": "rKs3zFqJRy7W",
        "colab_type": "code",
        "colab": {}
      },
      "source": [
        "from nltk import word_tokenize, pos_tag\n",
        "\n",
        "def nouns(text):\n",
        "    '''Given a string of text, tokenize the text and pull out only the nouns.'''\n",
        "    is_noun = lambda pos: pos[:2] == 'NN'\n",
        "    tokenized = word_tokenize(text)\n",
        "    all_nouns = [word for (word, pos) in pos_tag(tokenized) if is_noun(pos)] \n",
        "    return ' '.join(all_nouns)"
      ],
      "execution_count": 0,
      "outputs": []
    },
    {
      "cell_type": "code",
      "metadata": {
        "id": "eOUdgllJR1ai",
        "colab_type": "code",
        "colab": {
          "base_uri": "https://localhost:8080/",
          "height": 118
        },
        "outputId": "74764d26-ee2e-470c-ab48-ec0adfd4316d"
      },
      "source": [
        "import nltk\n",
        "nltk.download('averaged_perceptron_tagger')\n",
        "nltk.download('punkt')  "
      ],
      "execution_count": 112,
      "outputs": [
        {
          "output_type": "stream",
          "text": [
            "[nltk_data] Downloading package averaged_perceptron_tagger to\n",
            "[nltk_data]     /root/nltk_data...\n",
            "[nltk_data]   Unzipping taggers/averaged_perceptron_tagger.zip.\n",
            "[nltk_data] Downloading package punkt to /root/nltk_data...\n",
            "[nltk_data]   Unzipping tokenizers/punkt.zip.\n"
          ],
          "name": "stdout"
        },
        {
          "output_type": "execute_result",
          "data": {
            "text/plain": [
              "True"
            ]
          },
          "metadata": {
            "tags": []
          },
          "execution_count": 112
        }
      ]
    },
    {
      "cell_type": "code",
      "metadata": {
        "id": "kQHSHjR3R5i9",
        "colab_type": "code",
        "colab": {
          "base_uri": "https://localhost:8080/",
          "height": 77
        },
        "outputId": "4de22643-08ad-42af-c2a1-fa488111ca81"
      },
      "source": [
        "data_nouns = pd.DataFrame(docx.Data.apply(nouns))\n",
        "data_nouns"
      ],
      "execution_count": 113,
      "outputs": [
        {
          "output_type": "execute_result",
          "data": {
            "text/html": [
              "<div>\n",
              "<style scoped>\n",
              "    .dataframe tbody tr th:only-of-type {\n",
              "        vertical-align: middle;\n",
              "    }\n",
              "\n",
              "    .dataframe tbody tr th {\n",
              "        vertical-align: top;\n",
              "    }\n",
              "\n",
              "    .dataframe thead th {\n",
              "        text-align: right;\n",
              "    }\n",
              "</style>\n",
              "<table border=\"1\" class=\"dataframe\">\n",
              "  <thead>\n",
              "    <tr style=\"text-align: right;\">\n",
              "      <th></th>\n",
              "      <th>Data</th>\n",
              "    </tr>\n",
              "  </thead>\n",
              "  <tbody>\n",
              "    <tr>\n",
              "      <th>0</th>\n",
              "      <td>PROCEEDING File No Charges UBS Connection Mutu...</td>\n",
              "    </tr>\n",
              "  </tbody>\n",
              "</table>\n",
              "</div>"
            ],
            "text/plain": [
              "                                                Data\n",
              "0  PROCEEDING File No Charges UBS Connection Mutu..."
            ]
          },
          "metadata": {
            "tags": []
          },
          "execution_count": 113
        }
      ]
    },
    {
      "cell_type": "code",
      "metadata": {
        "id": "eGja083KR7N0",
        "colab_type": "code",
        "colab": {
          "base_uri": "https://localhost:8080/",
          "height": 126
        },
        "outputId": "9883e6c3-37ad-430a-e1ab-954120b5ba72"
      },
      "source": [
        "# Create a new document-term matrix using only nouns\n",
        "from sklearn.feature_extraction import text\n",
        "from sklearn.feature_extraction.text import CountVectorizer\n",
        "\n",
        "# Re-add the additional stop words since we are recreating the document-term matrix\n",
        "add_stop_words = ['like', 'im', 'know', 'just', 'dont', 'thats', 'right', 'people',\n",
        "                  'youre', 'got', 'gonna', 'time', 'think', 'yeah', 'said']\n",
        "stop_words = text.ENGLISH_STOP_WORDS.union(add_stop_words)\n",
        "\n",
        "# Recreate a document-term matrix with only nouns\n",
        "cvn = CountVectorizer(stop_words=stop_words)\n",
        "data_cvn = cvn.fit_transform(data_nouns.Data)\n",
        "data_dtmn = pd.DataFrame(data_cvn.toarray(), columns=cvn.get_feature_names())\n",
        "data_dtmn.index = data_nouns.index\n",
        "data_dtmn"
      ],
      "execution_count": 114,
      "outputs": [
        {
          "output_type": "execute_result",
          "data": {
            "text/html": [
              "<div>\n",
              "<style scoped>\n",
              "    .dataframe tbody tr th:only-of-type {\n",
              "        vertical-align: middle;\n",
              "    }\n",
              "\n",
              "    .dataframe tbody tr th {\n",
              "        vertical-align: top;\n",
              "    }\n",
              "\n",
              "    .dataframe thead th {\n",
              "        text-align: right;\n",
              "    }\n",
              "</style>\n",
              "<table border=\"1\" class=\"dataframe\">\n",
              "  <thead>\n",
              "    <tr style=\"text-align: right;\">\n",
              "      <th></th>\n",
              "      <th>according</th>\n",
              "      <th>account</th>\n",
              "      <th>accounts</th>\n",
              "      <th>accountsoctober</th>\n",
              "      <th>act</th>\n",
              "      <th>addresses</th>\n",
              "      <th>adviser</th>\n",
              "      <th>analysis</th>\n",
              "      <th>analytics</th>\n",
              "      <th>asset</th>\n",
              "      <th>assistant</th>\n",
              "      <th>broker</th>\n",
              "      <th>brokerage</th>\n",
              "      <th>censure</th>\n",
              "      <th>charge</th>\n",
              "      <th>charges</th>\n",
              "      <th>charitable</th>\n",
              "      <th>class</th>\n",
              "      <th>classes</th>\n",
              "      <th>commission</th>\n",
              "      <th>compensation</th>\n",
              "      <th>compliance</th>\n",
              "      <th>connection</th>\n",
              "      <th>contingent</th>\n",
              "      <th>cost</th>\n",
              "      <th>customer</th>\n",
              "      <th>customers</th>\n",
              "      <th>data</th>\n",
              "      <th>dealer</th>\n",
              "      <th>director</th>\n",
              "      <th>division</th>\n",
              "      <th>efforts</th>\n",
              "      <th>eligibility</th>\n",
              "      <th>enforcement</th>\n",
              "      <th>examination</th>\n",
              "      <th>examinations</th>\n",
              "      <th>exchange</th>\n",
              "      <th>expenses</th>\n",
              "      <th>failures</th>\n",
              "      <th>farinacci</th>\n",
              "      <th>...</th>\n",
              "      <th>investigation</th>\n",
              "      <th>investment</th>\n",
              "      <th>investments</th>\n",
              "      <th>january</th>\n",
              "      <th>john</th>\n",
              "      <th>june</th>\n",
              "      <th>licardo</th>\n",
              "      <th>light</th>\n",
              "      <th>management</th>\n",
              "      <th>mutual</th>\n",
              "      <th>new</th>\n",
              "      <th>office</th>\n",
              "      <th>ongoing</th>\n",
              "      <th>order</th>\n",
              "      <th>organization</th>\n",
              "      <th>payments</th>\n",
              "      <th>penalty</th>\n",
              "      <th>proceeding</th>\n",
              "      <th>purchases</th>\n",
              "      <th>result</th>\n",
              "      <th>retirement</th>\n",
              "      <th>return</th>\n",
              "      <th>risk</th>\n",
              "      <th>sales</th>\n",
              "      <th>sec</th>\n",
              "      <th>sections</th>\n",
              "      <th>securities</th>\n",
              "      <th>services</th>\n",
              "      <th>share</th>\n",
              "      <th>structures</th>\n",
              "      <th>support</th>\n",
              "      <th>szczepanik</th>\n",
              "      <th>team</th>\n",
              "      <th>today</th>\n",
              "      <th>total</th>\n",
              "      <th>ubs</th>\n",
              "      <th>unit</th>\n",
              "      <th>valerie</th>\n",
              "      <th>waivers</th>\n",
              "      <th>york</th>\n",
              "    </tr>\n",
              "  </thead>\n",
              "  <tbody>\n",
              "    <tr>\n",
              "      <th>0</th>\n",
              "      <td>1</td>\n",
              "      <td>1</td>\n",
              "      <td>2</td>\n",
              "      <td>1</td>\n",
              "      <td>1</td>\n",
              "      <td>1</td>\n",
              "      <td>1</td>\n",
              "      <td>1</td>\n",
              "      <td>1</td>\n",
              "      <td>1</td>\n",
              "      <td>1</td>\n",
              "      <td>1</td>\n",
              "      <td>1</td>\n",
              "      <td>1</td>\n",
              "      <td>1</td>\n",
              "      <td>4</td>\n",
              "      <td>1</td>\n",
              "      <td>2</td>\n",
              "      <td>4</td>\n",
              "      <td>1</td>\n",
              "      <td>1</td>\n",
              "      <td>1</td>\n",
              "      <td>1</td>\n",
              "      <td>1</td>\n",
              "      <td>1</td>\n",
              "      <td>1</td>\n",
              "      <td>8</td>\n",
              "      <td>1</td>\n",
              "      <td>1</td>\n",
              "      <td>1</td>\n",
              "      <td>1</td>\n",
              "      <td>1</td>\n",
              "      <td>1</td>\n",
              "      <td>1</td>\n",
              "      <td>1</td>\n",
              "      <td>1</td>\n",
              "      <td>1</td>\n",
              "      <td>2</td>\n",
              "      <td>1</td>\n",
              "      <td>1</td>\n",
              "      <td>...</td>\n",
              "      <td>1</td>\n",
              "      <td>1</td>\n",
              "      <td>1</td>\n",
              "      <td>1</td>\n",
              "      <td>1</td>\n",
              "      <td>1</td>\n",
              "      <td>1</td>\n",
              "      <td>1</td>\n",
              "      <td>1</td>\n",
              "      <td>1</td>\n",
              "      <td>2</td>\n",
              "      <td>1</td>\n",
              "      <td>1</td>\n",
              "      <td>4</td>\n",
              "      <td>1</td>\n",
              "      <td>2</td>\n",
              "      <td>1</td>\n",
              "      <td>2</td>\n",
              "      <td>2</td>\n",
              "      <td>1</td>\n",
              "      <td>3</td>\n",
              "      <td>1</td>\n",
              "      <td>1</td>\n",
              "      <td>4</td>\n",
              "      <td>4</td>\n",
              "      <td>1</td>\n",
              "      <td>2</td>\n",
              "      <td>1</td>\n",
              "      <td>8</td>\n",
              "      <td>1</td>\n",
              "      <td>1</td>\n",
              "      <td>1</td>\n",
              "      <td>1</td>\n",
              "      <td>1</td>\n",
              "      <td>1</td>\n",
              "      <td>10</td>\n",
              "      <td>1</td>\n",
              "      <td>1</td>\n",
              "      <td>1</td>\n",
              "      <td>2</td>\n",
              "    </tr>\n",
              "  </tbody>\n",
              "</table>\n",
              "<p>1 rows × 89 columns</p>\n",
              "</div>"
            ],
            "text/plain": [
              "   according  account  accounts  accountsoctober  ...  unit  valerie  waivers  york\n",
              "0          1        1         2                1  ...     1        1        1     2\n",
              "\n",
              "[1 rows x 89 columns]"
            ]
          },
          "metadata": {
            "tags": []
          },
          "execution_count": 114
        }
      ]
    },
    {
      "cell_type": "code",
      "metadata": {
        "id": "DzDEYCKzSAvK",
        "colab_type": "code",
        "colab": {}
      },
      "source": [
        "# Create the gensim corpus\n",
        "corpusn = matutils.Sparse2Corpus(scipy.sparse.csr_matrix(data_dtmn.transpose()))\n",
        "\n",
        "# Create the vocabulary dictionary\n",
        "id2wordn = dict((v, k) for k, v in cvn.vocabulary_.items())\n",
        "id2wordn"
      ],
      "execution_count": 0,
      "outputs": []
    },
    {
      "cell_type": "markdown",
      "metadata": {
        "id": "tBgsp1vqSLeY",
        "colab_type": "text"
      },
      "source": [
        "topics with noun"
      ]
    },
    {
      "cell_type": "code",
      "metadata": {
        "id": "aqtz8RvJSJFF",
        "colab_type": "code",
        "colab": {
          "base_uri": "https://localhost:8080/",
          "height": 84
        },
        "outputId": "7039d300-488a-4ce8-b663-e844ce03476f"
      },
      "source": [
        "# Let's start with 2 topics\n",
        "ldan = models.LdaModel(corpus=corpusn, num_topics=2, id2word=id2wordn, passes=10)\n",
        "ldan.print_topics()"
      ],
      "execution_count": 116,
      "outputs": [
        {
          "output_type": "execute_result",
          "data": {
            "text/plain": [
              "[(0,\n",
              "  '0.012*\"ubs\" + 0.012*\"share\" + 0.012*\"customers\" + 0.011*\"charges\" + 0.011*\"order\" + 0.011*\"classes\" + 0.011*\"fund\" + 0.011*\"sales\" + 0.011*\"york\" + 0.011*\"sec\"'),\n",
              " (1,\n",
              "  '0.056*\"ubs\" + 0.045*\"customers\" + 0.045*\"share\" + 0.029*\"fund\" + 0.024*\"sec\" + 0.024*\"sales\" + 0.024*\"classes\" + 0.024*\"order\" + 0.024*\"charges\" + 0.019*\"retirement\"')]"
            ]
          },
          "metadata": {
            "tags": []
          },
          "execution_count": 116
        }
      ]
    },
    {
      "cell_type": "code",
      "metadata": {
        "id": "dxUHdx0GSN65",
        "colab_type": "code",
        "colab": {
          "base_uri": "https://localhost:8080/",
          "height": 151
        },
        "outputId": "ddcb6bf6-2519-458d-b5ca-83b231258b22"
      },
      "source": [
        "# Let's try 4 topics\n",
        "ldan = models.LdaModel(corpus=corpusn, num_topics=4, id2word=id2wordn, passes=10)\n",
        "ldan.print_topics()"
      ],
      "execution_count": 117,
      "outputs": [
        {
          "output_type": "execute_result",
          "data": {
            "text/plain": [
              "[(0,\n",
              "  '0.012*\"ubs\" + 0.012*\"share\" + 0.011*\"fund\" + 0.011*\"customers\" + 0.011*\"sec\" + 0.011*\"sales\" + 0.011*\"charges\" + 0.011*\"retirement\" + 0.011*\"order\" + 0.011*\"classes\"'),\n",
              " (1,\n",
              "  '0.012*\"ubs\" + 0.012*\"customers\" + 0.012*\"share\" + 0.012*\"fund\" + 0.012*\"sales\" + 0.011*\"order\" + 0.011*\"classes\" + 0.011*\"sec\" + 0.011*\"charges\" + 0.011*\"retirement\"'),\n",
              " (2,\n",
              "  '0.062*\"ubs\" + 0.050*\"share\" + 0.050*\"customers\" + 0.032*\"fund\" + 0.026*\"order\" + 0.026*\"charges\" + 0.026*\"sec\" + 0.026*\"classes\" + 0.026*\"sales\" + 0.020*\"retirement\"'),\n",
              " (3,\n",
              "  '0.012*\"customers\" + 0.012*\"ubs\" + 0.012*\"share\" + 0.012*\"classes\" + 0.011*\"fund\" + 0.011*\"sales\" + 0.011*\"sec\" + 0.011*\"retirement\" + 0.011*\"charges\" + 0.011*\"order\"')]"
            ]
          },
          "metadata": {
            "tags": []
          },
          "execution_count": 117
        }
      ]
    },
    {
      "cell_type": "markdown",
      "metadata": {
        "id": "hEpNoL6lSWN1",
        "colab_type": "text"
      },
      "source": [
        "noun abd adjective"
      ]
    },
    {
      "cell_type": "code",
      "metadata": {
        "id": "eC1wSjplSVCN",
        "colab_type": "code",
        "colab": {}
      },
      "source": [
        "# Let's create a function to pull out nouns from a string of text\n",
        "def nouns_adj(text):\n",
        "    '''Given a string of text, tokenize the text and pull out only the nouns and adjectives.'''\n",
        "    is_noun_adj = lambda pos: pos[:2] == 'NN' or pos[:2] == 'JJ'\n",
        "    tokenized = word_tokenize(text)\n",
        "    nouns_adj = [word for (word, pos) in pos_tag(tokenized) if is_noun_adj(pos)] \n",
        "    return ' '.join(nouns_adj)"
      ],
      "execution_count": 0,
      "outputs": []
    },
    {
      "cell_type": "code",
      "metadata": {
        "id": "KZ0LsJ94Sbsg",
        "colab_type": "code",
        "colab": {
          "base_uri": "https://localhost:8080/",
          "height": 77
        },
        "outputId": "f87a0e8b-9a2d-40d7-804b-5b0db6f5d19b"
      },
      "source": [
        "# Apply the nouns function to the transcripts to filter only on nouns\n",
        "data_nouns_adj = pd.DataFrame(docx.Data.apply(nouns_adj))\n",
        "data_nouns_adj"
      ],
      "execution_count": 121,
      "outputs": [
        {
          "output_type": "execute_result",
          "data": {
            "text/html": [
              "<div>\n",
              "<style scoped>\n",
              "    .dataframe tbody tr th:only-of-type {\n",
              "        vertical-align: middle;\n",
              "    }\n",
              "\n",
              "    .dataframe tbody tr th {\n",
              "        vertical-align: top;\n",
              "    }\n",
              "\n",
              "    .dataframe thead th {\n",
              "        text-align: right;\n",
              "    }\n",
              "</style>\n",
              "<table border=\"1\" class=\"dataframe\">\n",
              "  <thead>\n",
              "    <tr style=\"text-align: right;\">\n",
              "      <th></th>\n",
              "      <th>Data</th>\n",
              "    </tr>\n",
              "  </thead>\n",
              "  <tbody>\n",
              "    <tr>\n",
              "      <th>0</th>\n",
              "      <td>ADMINISTRATIVE PROCEEDING File No 3-18270SEC C...</td>\n",
              "    </tr>\n",
              "  </tbody>\n",
              "</table>\n",
              "</div>"
            ],
            "text/plain": [
              "                                                Data\n",
              "0  ADMINISTRATIVE PROCEEDING File No 3-18270SEC C..."
            ]
          },
          "metadata": {
            "tags": []
          },
          "execution_count": 121
        }
      ]
    },
    {
      "cell_type": "code",
      "metadata": {
        "id": "Jy1-PJrLSe60",
        "colab_type": "code",
        "colab": {
          "base_uri": "https://localhost:8080/",
          "height": 126
        },
        "outputId": "8422127c-5b2c-4ad7-8228-6e8788702dda"
      },
      "source": [
        "# Create a new document-term matrix using only nouns and adjectives, also remove common words with max_df\n",
        "cvna = CountVectorizer(stop_words=stop_words)\n",
        "data_cvna = cvna.fit_transform(data_nouns_adj.Data)\n",
        "data_dtmna = pd.DataFrame(data_cvna.toarray(), columns=cvna.get_feature_names())\n",
        "data_dtmna.index = data_nouns_adj.index\n",
        "data_dtmna"
      ],
      "execution_count": 127,
      "outputs": [
        {
          "output_type": "execute_result",
          "data": {
            "text/html": [
              "<div>\n",
              "<style scoped>\n",
              "    .dataframe tbody tr th:only-of-type {\n",
              "        vertical-align: middle;\n",
              "    }\n",
              "\n",
              "    .dataframe tbody tr th {\n",
              "        vertical-align: top;\n",
              "    }\n",
              "\n",
              "    .dataframe thead th {\n",
              "        text-align: right;\n",
              "    }\n",
              "</style>\n",
              "<table border=\"1\" class=\"dataframe\">\n",
              "  <thead>\n",
              "    <tr style=\"text-align: right;\">\n",
              "      <th></th>\n",
              "      <th>18270sec</th>\n",
              "      <th>according</th>\n",
              "      <th>account</th>\n",
              "      <th>accounts</th>\n",
              "      <th>accountsoctober</th>\n",
              "      <th>act</th>\n",
              "      <th>additional</th>\n",
              "      <th>addresses</th>\n",
              "      <th>administrative</th>\n",
              "      <th>adviser</th>\n",
              "      <th>analysis</th>\n",
              "      <th>analytics</th>\n",
              "      <th>asset</th>\n",
              "      <th>assistant</th>\n",
              "      <th>available</th>\n",
              "      <th>broker</th>\n",
              "      <th>brokerage</th>\n",
              "      <th>cease</th>\n",
              "      <th>censure</th>\n",
              "      <th>certain</th>\n",
              "      <th>charge</th>\n",
              "      <th>charges</th>\n",
              "      <th>charitable</th>\n",
              "      <th>civil</th>\n",
              "      <th>class</th>\n",
              "      <th>classes</th>\n",
              "      <th>commission</th>\n",
              "      <th>compensation</th>\n",
              "      <th>compliance</th>\n",
              "      <th>connection</th>\n",
              "      <th>contingent</th>\n",
              "      <th>cost</th>\n",
              "      <th>customer</th>\n",
              "      <th>customers</th>\n",
              "      <th>data</th>\n",
              "      <th>dealer</th>\n",
              "      <th>desist</th>\n",
              "      <th>different</th>\n",
              "      <th>director</th>\n",
              "      <th>division</th>\n",
              "      <th>...</th>\n",
              "      <th>licardo</th>\n",
              "      <th>light</th>\n",
              "      <th>lower</th>\n",
              "      <th>lowest</th>\n",
              "      <th>management</th>\n",
              "      <th>mutual</th>\n",
              "      <th>new</th>\n",
              "      <th>office</th>\n",
              "      <th>ongoing</th>\n",
              "      <th>order</th>\n",
              "      <th>organization</th>\n",
              "      <th>overall</th>\n",
              "      <th>payments</th>\n",
              "      <th>penalty</th>\n",
              "      <th>proceeding</th>\n",
              "      <th>purchases</th>\n",
              "      <th>registered</th>\n",
              "      <th>result</th>\n",
              "      <th>retail</th>\n",
              "      <th>retirement</th>\n",
              "      <th>return</th>\n",
              "      <th>risk</th>\n",
              "      <th>sales</th>\n",
              "      <th>sec</th>\n",
              "      <th>sections</th>\n",
              "      <th>securities</th>\n",
              "      <th>services</th>\n",
              "      <th>settled</th>\n",
              "      <th>share</th>\n",
              "      <th>structures</th>\n",
              "      <th>support</th>\n",
              "      <th>szczepanik</th>\n",
              "      <th>team</th>\n",
              "      <th>today</th>\n",
              "      <th>total</th>\n",
              "      <th>ubs</th>\n",
              "      <th>unit</th>\n",
              "      <th>valerie</th>\n",
              "      <th>waivers</th>\n",
              "      <th>york</th>\n",
              "    </tr>\n",
              "  </thead>\n",
              "  <tbody>\n",
              "    <tr>\n",
              "      <th>0</th>\n",
              "      <td>1</td>\n",
              "      <td>1</td>\n",
              "      <td>1</td>\n",
              "      <td>2</td>\n",
              "      <td>1</td>\n",
              "      <td>1</td>\n",
              "      <td>1</td>\n",
              "      <td>1</td>\n",
              "      <td>2</td>\n",
              "      <td>1</td>\n",
              "      <td>1</td>\n",
              "      <td>1</td>\n",
              "      <td>1</td>\n",
              "      <td>1</td>\n",
              "      <td>1</td>\n",
              "      <td>1</td>\n",
              "      <td>1</td>\n",
              "      <td>2</td>\n",
              "      <td>1</td>\n",
              "      <td>3</td>\n",
              "      <td>1</td>\n",
              "      <td>4</td>\n",
              "      <td>3</td>\n",
              "      <td>1</td>\n",
              "      <td>2</td>\n",
              "      <td>4</td>\n",
              "      <td>1</td>\n",
              "      <td>1</td>\n",
              "      <td>1</td>\n",
              "      <td>1</td>\n",
              "      <td>1</td>\n",
              "      <td>1</td>\n",
              "      <td>1</td>\n",
              "      <td>8</td>\n",
              "      <td>1</td>\n",
              "      <td>1</td>\n",
              "      <td>2</td>\n",
              "      <td>2</td>\n",
              "      <td>1</td>\n",
              "      <td>1</td>\n",
              "      <td>...</td>\n",
              "      <td>1</td>\n",
              "      <td>1</td>\n",
              "      <td>1</td>\n",
              "      <td>1</td>\n",
              "      <td>1</td>\n",
              "      <td>5</td>\n",
              "      <td>2</td>\n",
              "      <td>1</td>\n",
              "      <td>1</td>\n",
              "      <td>4</td>\n",
              "      <td>1</td>\n",
              "      <td>1</td>\n",
              "      <td>2</td>\n",
              "      <td>1</td>\n",
              "      <td>2</td>\n",
              "      <td>2</td>\n",
              "      <td>1</td>\n",
              "      <td>1</td>\n",
              "      <td>1</td>\n",
              "      <td>3</td>\n",
              "      <td>1</td>\n",
              "      <td>1</td>\n",
              "      <td>4</td>\n",
              "      <td>4</td>\n",
              "      <td>1</td>\n",
              "      <td>2</td>\n",
              "      <td>1</td>\n",
              "      <td>1</td>\n",
              "      <td>8</td>\n",
              "      <td>1</td>\n",
              "      <td>1</td>\n",
              "      <td>1</td>\n",
              "      <td>1</td>\n",
              "      <td>1</td>\n",
              "      <td>1</td>\n",
              "      <td>10</td>\n",
              "      <td>1</td>\n",
              "      <td>1</td>\n",
              "      <td>1</td>\n",
              "      <td>2</td>\n",
              "    </tr>\n",
              "  </tbody>\n",
              "</table>\n",
              "<p>1 rows × 108 columns</p>\n",
              "</div>"
            ],
            "text/plain": [
              "   18270sec  according  account  accounts  ...  unit  valerie  waivers  york\n",
              "0         1          1        1         2  ...     1        1        1     2\n",
              "\n",
              "[1 rows x 108 columns]"
            ]
          },
          "metadata": {
            "tags": []
          },
          "execution_count": 127
        }
      ]
    },
    {
      "cell_type": "code",
      "metadata": {
        "id": "vcUWFdsDTA8n",
        "colab_type": "code",
        "colab": {}
      },
      "source": [
        "# Create the gensim corpus\n",
        "corpusna = matutils.Sparse2Corpus(scipy.sparse.csr_matrix(data_dtmna.transpose()))\n",
        "\n",
        "# Create the vocabulary dictionary\n",
        "id2wordna = dict((v, k) for k, v in cvna.vocabulary_.items())"
      ],
      "execution_count": 0,
      "outputs": []
    },
    {
      "cell_type": "code",
      "metadata": {
        "id": "95QYSqUHTDmz",
        "colab_type": "code",
        "colab": {
          "base_uri": "https://localhost:8080/",
          "height": 84
        },
        "outputId": "7aa79e44-4cd0-4679-e0a6-ce37cd9a467a"
      },
      "source": [
        "# Let's start with 2 topics\n"
      ],
      "execution_count": 129,
      "outputs": [
        {
          "output_type": "execute_result",
          "data": {
            "text/plain": [
              "[(0,\n",
              "  '0.045*\"ubs\" + 0.036*\"share\" + 0.036*\"customers\" + 0.024*\"expensive\" + 0.024*\"fund\" + 0.024*\"mutual\" + 0.019*\"classes\" + 0.019*\"sec\" + 0.019*\"sales\" + 0.019*\"charges\"'),\n",
              " (1,\n",
              "  '0.010*\"ubs\" + 0.010*\"customers\" + 0.010*\"share\" + 0.010*\"mutual\" + 0.009*\"order\" + 0.009*\"fund\" + 0.009*\"expensive\" + 0.009*\"charges\" + 0.009*\"sales\" + 0.009*\"sec\"')]"
            ]
          },
          "metadata": {
            "tags": []
          },
          "execution_count": 129
        }
      ]
    },
    {
      "cell_type": "code",
      "metadata": {
        "id": "w1uCHqaEgdX7",
        "colab_type": "code",
        "colab": {
          "base_uri": "https://localhost:8080/",
          "height": 353
        },
        "outputId": "b75bfc3e-6820-4621-9ea6-74b55efebb9b"
      },
      "source": [
        "# Let's try 4 topics\n",
        "ldana = models.LdaModel(corpus=corpusna, num_topics=10, id2word=id2wordna, passes=10)\n",
        "ldana.print_topics()"
      ],
      "execution_count": 153,
      "outputs": [
        {
          "output_type": "execute_result",
          "data": {
            "text/plain": [
              "[(0,\n",
              "  '0.009*\"ubs\" + 0.009*\"fund\" + 0.009*\"share\" + 0.009*\"customers\" + 0.009*\"expensive\" + 0.009*\"mutual\" + 0.009*\"charges\" + 0.009*\"sec\" + 0.009*\"sales\" + 0.009*\"certain\"'),\n",
              " (1,\n",
              "  '0.010*\"customers\" + 0.010*\"share\" + 0.010*\"ubs\" + 0.009*\"mutual\" + 0.009*\"sec\" + 0.009*\"fund\" + 0.009*\"charges\" + 0.009*\"expensive\" + 0.009*\"sales\" + 0.009*\"classes\"'),\n",
              " (2,\n",
              "  '0.014*\"share\" + 0.014*\"customers\" + 0.013*\"ubs\" + 0.011*\"mutual\" + 0.011*\"expensive\" + 0.011*\"order\" + 0.011*\"fund\" + 0.011*\"sales\" + 0.010*\"retirement\" + 0.010*\"sec\"'),\n",
              " (3,\n",
              "  '0.009*\"ubs\" + 0.009*\"customers\" + 0.009*\"share\" + 0.009*\"sec\" + 0.009*\"fund\" + 0.009*\"expensive\" + 0.009*\"mutual\" + 0.009*\"order\" + 0.009*\"sales\" + 0.009*\"charges\"'),\n",
              " (4,\n",
              "  '0.010*\"ubs\" + 0.010*\"share\" + 0.009*\"customers\" + 0.009*\"sec\" + 0.009*\"fund\" + 0.009*\"expensive\" + 0.009*\"certain\" + 0.009*\"mutual\" + 0.009*\"order\" + 0.009*\"charges\"'),\n",
              " (5,\n",
              "  '0.010*\"share\" + 0.010*\"customers\" + 0.010*\"ubs\" + 0.009*\"fund\" + 0.009*\"expensive\" + 0.009*\"mutual\" + 0.009*\"sales\" + 0.009*\"classes\" + 0.009*\"certain\" + 0.009*\"order\"'),\n",
              " (6,\n",
              "  '0.009*\"customers\" + 0.009*\"share\" + 0.009*\"mutual\" + 0.009*\"sales\" + 0.009*\"sec\" + 0.009*\"fund\" + 0.009*\"charitable\" + 0.009*\"retirement\" + 0.009*\"classes\" + 0.009*\"charges\"'),\n",
              " (7,\n",
              "  '0.010*\"customers\" + 0.010*\"ubs\" + 0.010*\"fund\" + 0.010*\"share\" + 0.010*\"expensive\" + 0.010*\"mutual\" + 0.009*\"order\" + 0.009*\"sales\" + 0.009*\"charitable\" + 0.009*\"sec\"'),\n",
              " (8,\n",
              "  '0.053*\"ubs\" + 0.043*\"customers\" + 0.043*\"share\" + 0.027*\"fund\" + 0.027*\"expensive\" + 0.027*\"mutual\" + 0.022*\"charges\" + 0.022*\"classes\" + 0.022*\"sec\" + 0.022*\"sales\"'),\n",
              " (9,\n",
              "  '0.010*\"share\" + 0.010*\"customers\" + 0.010*\"fund\" + 0.009*\"ubs\" + 0.009*\"expensive\" + 0.009*\"sales\" + 0.009*\"mutual\" + 0.009*\"order\" + 0.009*\"charges\" + 0.009*\"charitable\"')]"
            ]
          },
          "metadata": {
            "tags": []
          },
          "execution_count": 153
        }
      ]
    },
    {
      "cell_type": "code",
      "metadata": {
        "id": "rvEVg7IJTGqv",
        "colab_type": "code",
        "colab": {
          "base_uri": "https://localhost:8080/",
          "height": 1000
        },
        "outputId": "67fac772-b0d2-4a4f-a2a9-fb2b9ba13b99"
      },
      "source": [
        "# Let's try 4 topics\n",
        "ldana = models.LdaModel(corpus=corpusna, num_topics=10, id2word=id2wordna, passes=10)\n",
        "\n",
        "\n",
        "ldana.top_topics(corpus=corpusna, topn=10, processes=1)"
      ],
      "execution_count": 162,
      "outputs": [
        {
          "output_type": "execute_result",
          "data": {
            "text/plain": [
              "[([(0.009456851, 'ubs'),\n",
              "   (0.009410341, 'customers'),\n",
              "   (0.00936581, 'share'),\n",
              "   (0.009354374, 'sales'),\n",
              "   (0.009341937, 'charges'),\n",
              "   (0.009335789, 'mutual'),\n",
              "   (0.009333886, 'expensive'),\n",
              "   (0.009327227, 'classes'),\n",
              "   (0.009320822, 'sec'),\n",
              "   (0.009296105, 'order')],\n",
              "  1.0000889005818412e-12),\n",
              " ([(0.0093558505, 'ubs'),\n",
              "   (0.009348861, 'share'),\n",
              "   (0.0093427645, 'customers'),\n",
              "   (0.009309359, 'mutual'),\n",
              "   (0.009301057, 'sales'),\n",
              "   (0.009297199, 'fund'),\n",
              "   (0.009296582, 'expensive'),\n",
              "   (0.009290089, 'order'),\n",
              "   (0.009287105, 'charges'),\n",
              "   (0.009285108, 'sec')],\n",
              "  1.0000889005818412e-12),\n",
              " ([(0.0099852225, 'ubs'),\n",
              "   (0.009686532, 'customers'),\n",
              "   (0.0095775565, 'share'),\n",
              "   (0.0095188245, 'sales'),\n",
              "   (0.009510258, 'mutual'),\n",
              "   (0.009496671, 'order'),\n",
              "   (0.009462416, 'expensive'),\n",
              "   (0.009455371, 'fund'),\n",
              "   (0.009431598, 'sec'),\n",
              "   (0.009415428, 'charges')],\n",
              "  1.0000889005818412e-12),\n",
              " ([(0.053199947, 'ubs'),\n",
              "   (0.042663023, 'customers'),\n",
              "   (0.042659275, 'share'),\n",
              "   (0.026871419, 'fund'),\n",
              "   (0.026853234, 'mutual'),\n",
              "   (0.026851425, 'expensive'),\n",
              "   (0.021600824, 'classes'),\n",
              "   (0.021598617, 'sec'),\n",
              "   (0.021598516, 'charges'),\n",
              "   (0.021593895, 'order')],\n",
              "  1.0000889005818412e-12),\n",
              " ([(0.009272499, 'ubs'),\n",
              "   (0.009268068, 'customers'),\n",
              "   (0.009267212, 'share'),\n",
              "   (0.009266718, 'expensive'),\n",
              "   (0.009265713, 'mutual'),\n",
              "   (0.009265051, 'charges'),\n",
              "   (0.009262958, 'fund'),\n",
              "   (0.009262736, 'sec'),\n",
              "   (0.009262731, 'sales'),\n",
              "   (0.009262679, 'classes')],\n",
              "  1.0000889005818412e-12),\n",
              " ([(0.010790863, 'ubs'),\n",
              "   (0.010528849, 'share'),\n",
              "   (0.010330971, 'customers'),\n",
              "   (0.00991218, 'mutual'),\n",
              "   (0.009820822, 'fund'),\n",
              "   (0.009815498, 'sales'),\n",
              "   (0.009813495, 'expensive'),\n",
              "   (0.009702179, 'sec'),\n",
              "   (0.00964916, 'order'),\n",
              "   (0.009641338, 'classes')],\n",
              "  1.0000889005818412e-12),\n",
              " ([(0.009633011, 'ubs'),\n",
              "   (0.009610454, 'share'),\n",
              "   (0.009575788, 'customers'),\n",
              "   (0.009506529, 'mutual'),\n",
              "   (0.0094870385, 'fund'),\n",
              "   (0.009403341, 'sales'),\n",
              "   (0.009389848, 'charges'),\n",
              "   (0.009389321, 'expensive'),\n",
              "   (0.009380399, 'classes'),\n",
              "   (0.009374983, 'sec')],\n",
              "  1.0000889005818412e-12),\n",
              " ([(0.009535918, 'ubs'),\n",
              "   (0.00947998, 'customers'),\n",
              "   (0.009453134, 'share'),\n",
              "   (0.009399049, 'expensive'),\n",
              "   (0.00938845, 'fund'),\n",
              "   (0.00934526, 'mutual'),\n",
              "   (0.009343614, 'classes'),\n",
              "   (0.009333548, 'charges'),\n",
              "   (0.0093208095, 'order'),\n",
              "   (0.009320396, 'retirement')],\n",
              "  1.0000889005818412e-12),\n",
              " ([(0.00967131, 'ubs'),\n",
              "   (0.0095971525, 'share'),\n",
              "   (0.009574302, 'customers'),\n",
              "   (0.009508271, 'expensive'),\n",
              "   (0.009428127, 'fund'),\n",
              "   (0.009423298, 'mutual'),\n",
              "   (0.009408642, 'sales'),\n",
              "   (0.009400702, 'order'),\n",
              "   (0.009399907, 'charges'),\n",
              "   (0.009396146, 'sec')],\n",
              "  1.0000889005818412e-12),\n",
              " ([(0.010089423, 'customers'),\n",
              "   (0.010071386, 'ubs'),\n",
              "   (0.010070099, 'share'),\n",
              "   (0.009871979, 'expensive'),\n",
              "   (0.009701771, 'mutual'),\n",
              "   (0.009587347, 'charges'),\n",
              "   (0.0095823845, 'order'),\n",
              "   (0.009565354, 'fund'),\n",
              "   (0.009542645, 'classes'),\n",
              "   (0.009504081, 'sales')],\n",
              "  1.0000889005818412e-12)]"
            ]
          },
          "metadata": {
            "tags": []
          },
          "execution_count": 162
        }
      ]
    },
    {
      "cell_type": "code",
      "metadata": {
        "id": "yiIbvpiRTRjV",
        "colab_type": "code",
        "colab": {}
      },
      "source": [
        "\n",
        "# Let's take a look at which topics each transcript contains\n",
        "corpus_transformed = ldana[corpusna]\n",
        "d = list(zip([a for [(a, b)] in corpus_transformed], data_dtmna.index))"
      ],
      "execution_count": 0,
      "outputs": []
    },
    {
      "cell_type": "code",
      "metadata": {
        "id": "m0qxISblTTmR",
        "colab_type": "code",
        "colab": {
          "base_uri": "https://localhost:8080/",
          "height": 34
        },
        "outputId": "5adf81a9-b221-4a77-fdcb-4000177bd2d4"
      },
      "source": [
        "d"
      ],
      "execution_count": 132,
      "outputs": [
        {
          "output_type": "execute_result",
          "data": {
            "text/plain": [
              "[(1, 0)]"
            ]
          },
          "metadata": {
            "tags": []
          },
          "execution_count": 132
        }
      ]
    }
  ]
}