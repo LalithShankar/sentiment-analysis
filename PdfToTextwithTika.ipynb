{
  "nbformat": 4,
  "nbformat_minor": 0,
  "metadata": {
    "colab": {
      "name": "Untitled4.ipynb",
      "provenance": [],
      "authorship_tag": "ABX9TyMJMz0k9viMhHgpwpxvcgrp",
      "include_colab_link": true
    },
    "kernelspec": {
      "name": "python3",
      "display_name": "Python 3"
    }
  },
  "cells": [
    {
      "cell_type": "markdown",
      "metadata": {
        "id": "view-in-github",
        "colab_type": "text"
      },
      "source": [
        "<a href=\"https://colab.research.google.com/github/LalithShankar/sentiment-analysis/blob/master/PdfToTextwithTika.ipynb\" target=\"_parent\"><img src=\"https://colab.research.google.com/assets/colab-badge.svg\" alt=\"Open In Colab\"/></a>"
      ]
    },
    {
      "cell_type": "code",
      "metadata": {
        "id": "G0lOu61diqvX",
        "colab_type": "code",
        "colab": {
          "base_uri": "https://localhost:8080/",
          "height": 292
        },
        "outputId": "097f063c-9219-4bee-fe74-11bb671d3226"
      },
      "source": [
        "!pip install tika"
      ],
      "execution_count": 1,
      "outputs": [
        {
          "output_type": "stream",
          "text": [
            "Collecting tika\n",
            "  Downloading https://files.pythonhosted.org/packages/9a/c3/088827903bc1862f67b185e1df428071b8da6118155c1b46bcb0c61992ea/tika-1.23.1.tar.gz\n",
            "Requirement already satisfied: setuptools in /usr/local/lib/python3.6/dist-packages (from tika) (42.0.2)\n",
            "Requirement already satisfied: requests in /usr/local/lib/python3.6/dist-packages (from tika) (2.21.0)\n",
            "Requirement already satisfied: idna<2.9,>=2.5 in /usr/local/lib/python3.6/dist-packages (from requests->tika) (2.8)\n",
            "Requirement already satisfied: certifi>=2017.4.17 in /usr/local/lib/python3.6/dist-packages (from requests->tika) (2019.11.28)\n",
            "Requirement already satisfied: urllib3<1.25,>=1.21.1 in /usr/local/lib/python3.6/dist-packages (from requests->tika) (1.24.3)\n",
            "Requirement already satisfied: chardet<3.1.0,>=3.0.2 in /usr/local/lib/python3.6/dist-packages (from requests->tika) (3.0.4)\n",
            "Building wheels for collected packages: tika\n",
            "  Building wheel for tika (setup.py) ... \u001b[?25l\u001b[?25hdone\n",
            "  Created wheel for tika: filename=tika-1.23.1-cp36-none-any.whl size=32562 sha256=34fc650a96cb5a53178f238d5fac6106282614d3503e4f029778051015adc354\n",
            "  Stored in directory: /root/.cache/pip/wheels/fd/6b/6d/c850c2a934057edce9779d41400d910c6a9b1f22027566b10f\n",
            "Successfully built tika\n",
            "Installing collected packages: tika\n",
            "Successfully installed tika-1.23.1\n"
          ],
          "name": "stdout"
        }
      ]
    },
    {
      "cell_type": "code",
      "metadata": {
        "id": "Rvqa9VYgjICG",
        "colab_type": "code",
        "colab": {}
      },
      "source": [
        "from tika import parser\n",
        "\n",
        "raw = parser.from_file('Wells_Fargo_Advisors_Proceedings.pdf')\n",
        "text= (raw['content'])\n",
        "print(text)"
      ],
      "execution_count": 0,
      "outputs": []
    },
    {
      "cell_type": "code",
      "metadata": {
        "id": "XbLumr9mnqeG",
        "colab_type": "code",
        "colab": {
          "base_uri": "https://localhost:8080/",
          "height": 54
        },
        "outputId": "a21f1ce2-aec3-4035-ed70-0c06765ef9b7"
      },
      "source": [
        "textlist = text.split('\\n')\n",
        "print(textlist)"
      ],
      "execution_count": 14,
      "outputs": [
        {
          "output_type": "stream",
          "text": [
            "['', '', '', '', '', '', '', '', '', '', '', '', '', '', '', '', '', '', '', '', '', '', '', '', '', '', '', '', '', '', '', '', '', '', '', '', '', '', '', '', '', '', '', '', '', '', '', '', '', '', 'Administrative Summary', '', '', 'ADMINISTRATIVE PROCEEDING ', '', 'File No. 3 - 18279 ', '', 'SEC Charges Wells Fargo Advisors with Failing to Comply With Anti-Money Laundering ', '', 'Laws ', '', 'November 13, 2017 - The Securities and Exchange Commission today announced that Wells ', '', 'Fargo Advisors, LLC, a registered broker-dealer located in St. Louis, Missouri, agreed to settle ', '', 'charges that it failed to file and timely file a number of Suspicious Activity Reports (SARs) ', '', 'between approximately March 2012 and June 2013.  Most of these failures related to continuing ', '', 'suspicious activity occurring in accounts held at Wells Fargo Advisors’ U.S. branch offices that ', '', 'focused on international customers. ', '', 'To help detect potential violations of the securities laws and other money laundering violations, ', '', 'the Bank Secrecy Act (BSA) requires broker-dealers to file SARs to report suspicious ', '', 'transactions that occur through their firms.  The BSA and the U.S. Treasury Department’s ', '', 'Financial Crimes Enforcement Network (FinCEN) require the filing of a SAR within 30 days ', '', 'after a broker-dealer determines the activity is suspicious.  For SARs identifying continuing ', '', 'activity of a previously-filed SAR, FinCEN provides administrative relief which allows broker-', '', 'dealers to file SARs for continuing activity within 120 days after the previously-related SAR ', '', 'filing.   ', '', 'According to the SEC’s order, starting in approximately March 2012, new management over ', '', 'Wells Fargo Advisors’ AML program created confusion by telling the firm’s SAR investigators ', '', 'that they were filing too many SARs; that continuing activity SAR reviews were not a regulatory ', '', 'requirement; that they were to take steps to eliminate further continuing activity reviews; and ', '', 'that filing a SAR required “proof” of illegal activity.  These statements created an environment ', '', 'in which the SAR investigators experienced difficulty in recommending and filing SARs, ', '', 'especially continuing activity SARs.  Ultimately, Wells Fargo Advisors’ total SAR filings ', '', 'dropped by approximately 60% during an 11-month period and the firm failed to file or timely ', '', 'file at least 50 SARs, 45 of which related to continuing activity.    ', '', 'The SEC’s order instituting a settled administrative and cease-and-desist proceeding finds that ', '', 'Wells Fargo Advisors violated Section 17(a) of the Securities Exchange Act of 1934 and Rule ', '', '17a-8.  Without admitting or denying the SEC’s findings, Wells Fargo Advisors consented to a ', '', 'cease-and-desist order, a censure, and a civil penalty of $3,500,000.  Wells Fargo Advisors also ', '', 'voluntarily undertakes to review and update its policies and procedures and develop and conduct ', '', 'additional training.  ', '', 'The SEC’s investigation was conducted by Richard G. Stoltz, Paul Mensheha and Anne C. ', '', 'McKinley of the Chicago Regional Office.  The examination that led to the investigation was ', '', 'conducted by Craig E. Carlson, Keith Frisz, David Hoffmeyer, George J. Jacobus, Paul ', '', 'Mensheha and Jennifer L. Spicher.     ', '', 'The SEC appreciates the assistance of FinCEN and the Financial Industry Regulatory Authority. ', '', 'See also:  Order', '', 'https://www.sec.gov/litigation/admin/2017/34-82054.pdf', '', '']\n"
          ],
          "name": "stdout"
        }
      ]
    }
  ]
}