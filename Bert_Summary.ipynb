{
  "nbformat": 4,
  "nbformat_minor": 0,
  "metadata": {
    "colab": {
      "name": "Untitled2.ipynb",
      "provenance": [],
      "authorship_tag": "ABX9TyOpdPpGjuH8f6JoGeVbS8/Q",
      "include_colab_link": true
    },
    "kernelspec": {
      "name": "python3",
      "display_name": "Python 3"
    }
  },
  "cells": [
    {
      "cell_type": "markdown",
      "metadata": {
        "id": "view-in-github",
        "colab_type": "text"
      },
      "source": [
        "<a href=\"https://colab.research.google.com/github/LalithShankar/sentiment-analysis/blob/master/Bert_Summary.ipynb\" target=\"_parent\"><img src=\"https://colab.research.google.com/assets/colab-badge.svg\" alt=\"Open In Colab\"/></a>"
      ]
    },
    {
      "cell_type": "code",
      "metadata": {
        "id": "Ez5abD_e4TU_",
        "colab_type": "code",
        "colab": {}
      },
      "source": [
        "!pip install cdqa\n"
      ],
      "execution_count": 0,
      "outputs": []
    },
    {
      "cell_type": "code",
      "metadata": {
        "id": "vMRUK5AJ6Ig-",
        "colab_type": "code",
        "colab": {
          "base_uri": "https://localhost:8080/",
          "height": 134
        },
        "outputId": "e05ea0a5-a30a-42ce-c0b1-cb71450ac795"
      },
      "source": [
        "import os\n",
        "import pandas as pd\n",
        "from ast import literal_eval\n",
        "\n",
        "from cdqa.utils.converters import pdf_converter\n",
        "from cdqa.utils.filters import filter_paragraphs\n",
        "from cdqa.pipeline import QAPipeline\n",
        "from cdqa.utils.download import download_model"
      ],
      "execution_count": 1,
      "outputs": [
        {
          "output_type": "stream",
          "text": [
            "/usr/local/lib/python3.6/dist-packages/tqdm/autonotebook/__init__.py:18: TqdmExperimentalWarning: Using `tqdm.autonotebook.tqdm` in notebook mode. Use `tqdm.tqdm` instead to force console mode (e.g. in jupyter console)\n",
            "  \" (e.g. in jupyter console)\", TqdmExperimentalWarning)\n"
          ],
          "name": "stderr"
        },
        {
          "output_type": "display_data",
          "data": {
            "text/html": [
              "<p style=\"color: red;\">\n",
              "The default version of TensorFlow in Colab will soon switch to TensorFlow 2.x.<br>\n",
              "We recommend you <a href=\"https://www.tensorflow.org/guide/migrate\" target=\"_blank\">upgrade</a> now \n",
              "or ensure your notebook will continue to use TensorFlow 1.x via the <code>%tensorflow_version 1.x</code> magic:\n",
              "<a href=\"https://colab.research.google.com/notebooks/tensorflow_version.ipynb\" target=\"_blank\">more info</a>.</p>\n"
            ],
            "text/plain": [
              "<IPython.core.display.HTML object>"
            ]
          },
          "metadata": {
            "tags": []
          }
        }
      ]
    },
    {
      "cell_type": "code",
      "metadata": {
        "id": "WYfelFt66QDd",
        "colab_type": "code",
        "colab": {
          "base_uri": "https://localhost:8080/",
          "height": 51
        },
        "outputId": "b781f332-28d5-46dd-e70b-0081f62a58b3"
      },
      "source": [
        "download_model(model='bert-squad_1.1', dir='./models')"
      ],
      "execution_count": 2,
      "outputs": [
        {
          "output_type": "stream",
          "text": [
            "\n",
            "Downloading trained model...\n"
          ],
          "name": "stdout"
        }
      ]
    },
    {
      "cell_type": "code",
      "metadata": {
        "id": "Y9F1KWhT6bP0",
        "colab_type": "code",
        "colab": {
          "base_uri": "https://localhost:8080/",
          "height": 51
        },
        "outputId": "72f5b7c6-de03-47ef-abc4-2cf2e00eb836"
      },
      "source": [
        "def download_pdf():\n",
        "    import os\n",
        "    import wget\n",
        "    directory = './data/pdf/'\n",
        "    models_url = [\n",
        "      'https://invest.bnpparibas.com/documents/1q19-pr-12648',\n",
        "      'https://invest.bnpparibas.com/documents/4q18-pr-18000',\n",
        "      'https://invest.bnpparibas.com/documents/4q17-pr'\n",
        "    ]\n",
        "\n",
        "    print('\\nDownloading PDF files...')\n",
        "\n",
        "    if not os.path.exists(directory):\n",
        "        os.makedirs(directory)\n",
        "    for url in models_url:\n",
        "        wget.download(url=url, out=directory)\n",
        "\n",
        "download_pdf()"
      ],
      "execution_count": 5,
      "outputs": [
        {
          "output_type": "stream",
          "text": [
            "\n",
            "Downloading PDF files...\n"
          ],
          "name": "stdout"
        }
      ]
    },
    {
      "cell_type": "code",
      "metadata": {
        "id": "v1ltBgz57YKF",
        "colab_type": "code",
        "colab": {
          "base_uri": "https://localhost:8080/",
          "height": 275
        },
        "outputId": "420c81c3-a29e-423b-e6af-08f1eb29b650"
      },
      "source": [
        "df = pdf_converter(directory_path='./data/pdf/')\n",
        "df.head()"
      ],
      "execution_count": 6,
      "outputs": [
        {
          "output_type": "stream",
          "text": [
            "2020-02-03 07:22:09,400 [MainThread  ] [INFO ]  Retrieving http://search.maven.org/remotecontent?filepath=org/apache/tika/tika-server/1.19/tika-server-1.19.jar to /tmp/tika-server.jar.\n",
            "2020-02-03 07:22:18,115 [MainThread  ] [INFO ]  Retrieving http://search.maven.org/remotecontent?filepath=org/apache/tika/tika-server/1.19/tika-server-1.19.jar.md5 to /tmp/tika-server.jar.md5.\n",
            "2020-02-03 07:22:19,826 [MainThread  ] [WARNI]  Failed to see startup log message; retrying...\n"
          ],
          "name": "stderr"
        },
        {
          "output_type": "execute_result",
          "data": {
            "text/html": [
              "<div>\n",
              "<style scoped>\n",
              "    .dataframe tbody tr th:only-of-type {\n",
              "        vertical-align: middle;\n",
              "    }\n",
              "\n",
              "    .dataframe tbody tr th {\n",
              "        vertical-align: top;\n",
              "    }\n",
              "\n",
              "    .dataframe thead th {\n",
              "        text-align: right;\n",
              "    }\n",
              "</style>\n",
              "<table border=\"1\" class=\"dataframe\">\n",
              "  <thead>\n",
              "    <tr style=\"text-align: right;\">\n",
              "      <th></th>\n",
              "      <th>title</th>\n",
              "      <th>paragraphs</th>\n",
              "    </tr>\n",
              "  </thead>\n",
              "  <tbody>\n",
              "    <tr>\n",
              "      <th>0</th>\n",
              "      <td>4q18-pr2 (1)</td>\n",
              "      <td>[2018 FULL YEAR RESULTS   PRESS RELEASE Paris,...</td>\n",
              "    </tr>\n",
              "    <tr>\n",
              "      <th>1</th>\n",
              "      <td>1q19-pr-12648 (1)</td>\n",
              "      <td>[FIRST QUARTER 2019 RESULTS   PRESS RELEASE Pa...</td>\n",
              "    </tr>\n",
              "    <tr>\n",
              "      <th>2</th>\n",
              "      <td>4q17-pr</td>\n",
              "      <td>[2017 FULL YEAR RESULTS   PRESS RELEASE Paris,...</td>\n",
              "    </tr>\n",
              "    <tr>\n",
              "      <th>3</th>\n",
              "      <td>1q19-pr-12648</td>\n",
              "      <td>[FIRST QUARTER 2019 RESULTS   PRESS RELEASE Pa...</td>\n",
              "    </tr>\n",
              "    <tr>\n",
              "      <th>4</th>\n",
              "      <td>4q17-pr (1)</td>\n",
              "      <td>[2017 FULL YEAR RESULTS   PRESS RELEASE Paris,...</td>\n",
              "    </tr>\n",
              "  </tbody>\n",
              "</table>\n",
              "</div>"
            ],
            "text/plain": [
              "               title                                         paragraphs\n",
              "0       4q18-pr2 (1)  [2018 FULL YEAR RESULTS   PRESS RELEASE Paris,...\n",
              "1  1q19-pr-12648 (1)  [FIRST QUARTER 2019 RESULTS   PRESS RELEASE Pa...\n",
              "2            4q17-pr  [2017 FULL YEAR RESULTS   PRESS RELEASE Paris,...\n",
              "3      1q19-pr-12648  [FIRST QUARTER 2019 RESULTS   PRESS RELEASE Pa...\n",
              "4        4q17-pr (1)  [2017 FULL YEAR RESULTS   PRESS RELEASE Paris,..."
            ]
          },
          "metadata": {
            "tags": []
          },
          "execution_count": 6
        }
      ]
    },
    {
      "cell_type": "code",
      "metadata": {
        "id": "uDk9RZOU7pBj",
        "colab_type": "code",
        "colab": {
          "base_uri": "https://localhost:8080/",
          "height": 323
        },
        "outputId": "9a07e52a-4b29-4b21-ffc1-e4f8c86baa9f"
      },
      "source": [
        "cdqa_pipeline = QAPipeline(reader='./models/bert_qa.joblib', max_df=1.0)\n",
        "\n",
        "# Fit Retriever to documents\n",
        "cdqa_pipeline.fit_retriever(df=df)"
      ],
      "execution_count": 7,
      "outputs": [
        {
          "output_type": "stream",
          "text": [
            "100%|██████████| 231508/231508 [00:00<00:00, 417899.84B/s]\n"
          ],
          "name": "stderr"
        },
        {
          "output_type": "execute_result",
          "data": {
            "text/plain": [
              "QAPipeline(reader=BertQA(adam_epsilon=1e-08, bert_model='bert-base-uncased',\n",
              "                         do_lower_case=True, fp16=False,\n",
              "                         gradient_accumulation_steps=1, learning_rate=5e-05,\n",
              "                         local_rank=-1, loss_scale=0, max_answer_length=30,\n",
              "                         n_best_size=20, no_cuda=False,\n",
              "                         null_score_diff_threshold=0.0, num_train_epochs=3.0,\n",
              "                         output_dir=None, predict_batch_size=8, seed=42,\n",
              "                         server_ip='', server_po..._size=8,\n",
              "                         verbose_logging=False, version_2_with_negative=False,\n",
              "                         warmup_proportion=0.1, warmup_steps=0),\n",
              "           retrieve_by_doc=False,\n",
              "           retriever=BM25Retriever(b=0.75, floor=None, k1=2.0, lowercase=True,\n",
              "                                   max_df=1.0, min_df=2, ngram_range=(1, 2),\n",
              "                                   preprocessor=None, stop_words='english',\n",
              "                                   token_pattern='(?u)\\\\b\\\\w\\\\w+\\\\b',\n",
              "                                   tokenizer=None, top_n=20, verbose=False,\n",
              "                                   vocabulary=None))"
            ]
          },
          "metadata": {
            "tags": []
          },
          "execution_count": 7
        }
      ]
    },
    {
      "cell_type": "code",
      "metadata": {
        "id": "QQ_P_2Zi7x1z",
        "colab_type": "code",
        "colab": {}
      },
      "source": [
        "query = 'How many contracts did BNP Paribas Cardif sell in 2019?'\n",
        "prediction = cdqa_pipeline.predict(query)"
      ],
      "execution_count": 0,
      "outputs": []
    },
    {
      "cell_type": "code",
      "metadata": {
        "id": "lpxmpf6x7-uM",
        "colab_type": "code",
        "colab": {
          "base_uri": "https://localhost:8080/",
          "height": 105
        },
        "outputId": "270eaa73-70ca-4c1b-8cf2-f60dc6b13beb"
      },
      "source": [
        "print('query: {}'.format(query))\n",
        "print('answer: {}'.format(prediction[0]))\n",
        "print('title: {}'.format(prediction[1]))\n",
        "print('paragraph: {}'.format(prediction[2]))"
      ],
      "execution_count": 10,
      "outputs": [
        {
          "output_type": "stream",
          "text": [
            "query: How many contracts did BNP Paribas Cardif sell in 2019?\n",
            "answer: 140,000\n",
            "title: 1q19-pr-12648 (1)\n",
            "paragraph: 3 Excluding PEL/CEL effects of +2 million euros compared to +1 million euros in the first quarter 2018    5 RESULTS AS AT 31 MARCH 2019   The new property and casualty offering launched in May 2018 as part of the partnership between  BNP Paribas Cardif and Matmut (Cardif IARD) recorded good growth with already  140,000 contracts sold as at 31 March 2019.   The business is accelerating individual customers’ mobile uses and developing self-care features with the roll-out of the conversational chatbots Telmi in the Mes comptes BNP Paribas app and Helloïz at Hello bank!.  \n"
          ],
          "name": "stdout"
        }
      ]
    }
  ]
}